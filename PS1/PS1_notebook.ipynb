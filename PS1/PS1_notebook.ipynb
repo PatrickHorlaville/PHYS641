{
 "cells": [
  {
   "cell_type": "markdown",
   "id": "984a0ced",
   "metadata": {},
   "source": [
    "### Patrick Horlaville (260931235) - Problem Set 1 - PHYS 641 : Observational Techniques in Modern Astrophysics"
   ]
  },
  {
   "cell_type": "markdown",
   "id": "0c3747f6",
   "metadata": {},
   "source": [
    "Prof: Jon Sievers. TA: Anan Lu"
   ]
  },
  {
   "cell_type": "code",
   "execution_count": 1,
   "id": "2b304f58",
   "metadata": {},
   "outputs": [],
   "source": [
    "import numpy as np\n",
    "import matplotlib.pyplot as plt"
   ]
  },
  {
   "cell_type": "markdown",
   "id": "e373f242",
   "metadata": {},
   "source": [
    "# #4"
   ]
  },
  {
   "cell_type": "markdown",
   "id": "ec4863fb",
   "metadata": {},
   "source": [
    "We generate 10000 samples of Gaussian signals between -5 and 5 comprised of 51 data points. The noise on each signal is taken to be the standard deviation of the data points."
   ]
  },
  {
   "cell_type": "markdown",
   "id": "3a4f97ec",
   "metadata": {},
   "source": [
    "The template signal will follow the unit Gaussian function"
   ]
  },
  {
   "cell_type": "code",
   "execution_count": 2,
   "id": "5096b0b8",
   "metadata": {},
   "outputs": [],
   "source": [
    "def gauss(x):\n",
    "    return np.exp(-x**2 / 2)"
   ]
  },
  {
   "cell_type": "code",
   "execution_count": 3,
   "id": "d1bf338b",
   "metadata": {},
   "outputs": [],
   "source": [
    "x = np.linspace(-5,5,51)\n",
    "nchunks = 10000"
   ]
  },
  {
   "cell_type": "code",
   "execution_count": 4,
   "id": "df053967",
   "metadata": {},
   "outputs": [],
   "source": [
    "signal = [[0 for i in range(nchunks)] for i in range(len(x))]\n",
    "for i in range(len(x)):\n",
    "    for j in range(nchunks):\n",
    "        signal[i][j] = np.exp((-x[i]**2)/2) + np.random.randn()"
   ]
  },
  {
   "cell_type": "code",
   "execution_count": 7,
   "id": "bb034262",
   "metadata": {},
   "outputs": [],
   "source": [
    "signal = np.array(signal)\n",
    "noise = np.std(signal, axis = 0)"
   ]
  },
  {
   "cell_type": "markdown",
   "id": "d5945d4b",
   "metadata": {},
   "source": [
    "We can now use our least-squares methods to find the parameters' values with their corresponding error from our signal"
   ]
  },
  {
   "cell_type": "code",
   "execution_count": 20,
   "id": "e0701801",
   "metadata": {},
   "outputs": [],
   "source": [
    "## find best-fit parameters\n",
    "A = gauss(x)\n",
    "ms = []\n",
    "merrs = []\n",
    "\n",
    "for i in range(nchunks):\n",
    "    \n",
    "    Ninv = (1/noise[i])*np.eye(len(x))\n",
    "    LHS = A[:, np.newaxis].T@Ninv@A\n",
    "    RHS = A[:, np.newaxis].T@Ninv@signal[:, i]\n",
    "\n",
    "    m = (1/LHS)@(RHS)\n",
    "    \n",
    "    ms.append(m)\n",
    "    merrs.append(np.sqrt((1/LHS)[0]))\n",
    "    \n",
    "## weighted approach     \n",
    "ws = (1/np.array(merrs))**2\n",
    "m_w = np.sum(np.array(ms)*ws)/np.sum(ws)\n",
    "m_w_err = np.sqrt(np.sum((ws*np.array(merrs))**2)/np.sum(ws)**2)"
   ]
  },
  {
   "cell_type": "code",
   "execution_count": 26,
   "id": "59834d55",
   "metadata": {},
   "outputs": [
    {
     "name": "stdout",
     "output_type": "stream",
     "text": [
      "Average amplitude found is m =  1.0030261270274246 (+/-) 0.34241362787261304\n"
     ]
    }
   ],
   "source": [
    "print('Average amplitude found is m = ', np.mean(ms), '(+/-)', np.mean(merrs))"
   ]
  },
  {
   "cell_type": "markdown",
   "id": "be6b53c8",
   "metadata": {},
   "source": [
    "where the expected value of m = 1 falls within (+/-) 1 sigma to our best-fit m"
   ]
  },
  {
   "cell_type": "markdown",
   "id": "abcea527",
   "metadata": {},
   "source": [
    "Consider now analyzing all of the chunks at the same time. We take all the errors from our fit, find the corresponding weights, determine the weighted m-value and find the error of this weighted m with standard formula for weighted averages"
   ]
  },
  {
   "cell_type": "code",
   "execution_count": 29,
   "id": "c8a4c514",
   "metadata": {},
   "outputs": [
    {
     "name": "stdout",
     "output_type": "stream",
     "text": [
      "Average amplitude is now m =  0.9915211667432441 (+/-) 0.00341114834219068\n"
     ]
    }
   ],
   "source": [
    "print('Average amplitude is now m = ', m_w, '(+/-)', m_w_err)"
   ]
  },
  {
   "cell_type": "markdown",
   "id": "017ed0b0",
   "metadata": {},
   "source": [
    "The error on this analysis is significantly underestimated, as the expected value m = 1 is now at about 3 sigmas from m"
   ]
  },
  {
   "cell_type": "code",
   "execution_count": null,
   "id": "3a3fd4a6",
   "metadata": {},
   "outputs": [],
   "source": []
  }
 ],
 "metadata": {
  "kernelspec": {
   "display_name": "Python 3",
   "language": "python",
   "name": "python3"
  },
  "language_info": {
   "codemirror_mode": {
    "name": "ipython",
    "version": 3
   },
   "file_extension": ".py",
   "mimetype": "text/x-python",
   "name": "python",
   "nbconvert_exporter": "python",
   "pygments_lexer": "ipython3",
   "version": "3.8.8"
  }
 },
 "nbformat": 4,
 "nbformat_minor": 5
}
